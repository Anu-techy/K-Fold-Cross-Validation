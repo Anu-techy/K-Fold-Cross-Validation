{
 "cells": [
  {
   "cell_type": "code",
   "execution_count": 1,
   "id": "33b7c593-c8a4-4e70-8015-0c8c50336e69",
   "metadata": {},
   "outputs": [],
   "source": [
    "import numpy as np\n",
    "import matplotlib.pyplot as plt"
   ]
  },
  {
   "cell_type": "code",
   "execution_count": 2,
   "id": "be2b66aa-8797-49c2-a99a-d6ba58991e50",
   "metadata": {},
   "outputs": [],
   "source": [
    "# Generating synthetic dataset from make classification\n",
    "from sklearn.datasets import make_classification\n",
    "from sklearn.model_selection import train_test_split\n",
    "\n",
    "X, y = make_classification(n_features=10,\n",
    "                           n_samples=1000,\n",
    "                           n_informative=8,\n",
    "                           n_redundant=2,\n",
    "                           n_repeated=0,\n",
    "                           n_classes=2,\n",
    "                           random_state=42\n",
    "                          )\n",
    "\n",
    "X_train, X_test, y_train, y_test = train_test_split(X, y, test_size=0.25, random_state=42)"
   ]
  },
  {
   "cell_type": "markdown",
   "id": "ac4844ca-234c-4a9b-a08f-f8b29d4b2eef",
   "metadata": {},
   "source": [
    "# Logistic Regression Classifier"
   ]
  },
  {
   "cell_type": "code",
   "execution_count": 4,
   "id": "1ae417b7-5a84-4e8d-9cf7-28603eeaf627",
   "metadata": {},
   "outputs": [
    {
     "name": "stdout",
     "output_type": "stream",
     "text": [
      "              precision    recall  f1-score   support\n",
      "\n",
      "           0       0.73      0.65      0.69       130\n",
      "           1       0.66      0.74      0.70       120\n",
      "\n",
      "    accuracy                           0.70       250\n",
      "   macro avg       0.70      0.70      0.70       250\n",
      "weighted avg       0.70      0.70      0.70       250\n",
      "\n"
     ]
    }
   ],
   "source": [
    "from sklearn.linear_model import LogisticRegression\n",
    "from sklearn.metrics import classification_report\n",
    "\n",
    "model = LogisticRegression()\n",
    "model.fit(X_train,y_train)\n",
    "\n",
    "y_pred = model.predict(X_test)\n",
    "\n",
    "cr = classification_report(y_test,y_pred)\n",
    "print(cr)"
   ]
  },
  {
   "cell_type": "markdown",
   "id": "53bb407a-5e06-4b76-934e-b5f7d9c94165",
   "metadata": {},
   "source": [
    "# K-Fold Cross Validation"
   ]
  },
  {
   "cell_type": "markdown",
   "id": "39953841-17b1-4516-a177-098374cb33b5",
   "metadata": {},
   "source": [
    "# Evaluate Logistic Regression"
   ]
  },
  {
   "cell_type": "code",
   "execution_count": 27,
   "id": "15e54327-522d-49a9-a419-fb134a7595c4",
   "metadata": {},
   "outputs": [
    {
     "data": {
      "text/plain": [
       "0.6950000000000001"
      ]
     },
     "execution_count": 27,
     "metadata": {},
     "output_type": "execute_result"
    }
   ],
   "source": [
    "from sklearn.model_selection import KFold, cross_val_score\n",
    "import numpy as np\n",
    "\n",
    "kf = KFold(n_splits=5, shuffle=True, random_state=42)\n",
    "\n",
    "scores_log = cross_val_score(LogisticRegression(), X, y, cv=kf)\n",
    "np.average(scores_log)"
   ]
  },
  {
   "cell_type": "markdown",
   "id": "727e6528-3f89-4085-b244-c32ccd4cc6de",
   "metadata": {},
   "source": [
    "# Evaluate Decision Tree"
   ]
  },
  {
   "cell_type": "code",
   "execution_count": 29,
   "id": "b3a0ffa7-e49a-47f5-8aef-82f50fbb0351",
   "metadata": {},
   "outputs": [
    {
     "data": {
      "text/plain": [
       "0.79"
      ]
     },
     "execution_count": 29,
     "metadata": {},
     "output_type": "execute_result"
    }
   ],
   "source": [
    "from sklearn.tree import DecisionTreeClassifier\n",
    "\n",
    "kf = KFold(n_splits=5, shuffle=True, random_state=42)\n",
    "\n",
    "scores_dt = cross_val_score(DecisionTreeClassifier(), X, y, cv=kf)\n",
    "np.average(scores_dt)"
   ]
  },
  {
   "cell_type": "markdown",
   "id": "ef770f28-7390-4d56-8bb8-03dda8d88e77",
   "metadata": {},
   "source": [
    "# Evaluate Random Forest Classifier"
   ]
  },
  {
   "cell_type": "code",
   "execution_count": 35,
   "id": "9f94331f-9a8e-443a-a6df-469898fe6796",
   "metadata": {},
   "outputs": [
    {
     "data": {
      "text/plain": [
       "0.889"
      ]
     },
     "execution_count": 35,
     "metadata": {},
     "output_type": "execute_result"
    }
   ],
   "source": [
    "from sklearn.ensemble import RandomForestClassifier\n",
    "\n",
    "kf = KFold(n_splits=5, shuffle=True, random_state=42)\n",
    "\n",
    "scores_rf = cross_val_score(RandomForestClassifier(), X, y, cv=kf)\n",
    "np.average(scores_rf)"
   ]
  },
  {
   "cell_type": "code",
   "execution_count": 37,
   "id": "466187ab-e620-44ff-b1ff-09b7ac9e4c71",
   "metadata": {},
   "outputs": [
    {
     "data": {
      "text/plain": [
       "0.8809999999999999"
      ]
     },
     "execution_count": 37,
     "metadata": {},
     "output_type": "execute_result"
    }
   ],
   "source": [
    "from sklearn.ensemble import RandomForestClassifier\n",
    "\n",
    "kf = KFold(n_splits=5, shuffle=True, random_state=42)\n",
    "\n",
    "scores_rf = cross_val_score(RandomForestClassifier(n_estimators=45), X, y, cv=kf)\n",
    "np.average(scores_rf)"
   ]
  },
  {
   "cell_type": "code",
   "execution_count": 43,
   "id": "e7d781ca-46a4-4306-bc4d-4b442bea802b",
   "metadata": {},
   "outputs": [
    {
     "data": {
      "text/plain": [
       "0.9512819521983593"
      ]
     },
     "execution_count": 43,
     "metadata": {},
     "output_type": "execute_result"
    }
   ],
   "source": [
    "from sklearn.ensemble import RandomForestClassifier\n",
    "\n",
    "kf = KFold(n_splits=5, shuffle=True, random_state=42)\n",
    "\n",
    "scores_rf = cross_val_score(RandomForestClassifier(n_estimators=45), X, y, cv=kf,scoring = \"roc_auc\")\n",
    "np.average(scores_rf)"
   ]
  },
  {
   "cell_type": "code",
   "execution_count": null,
   "id": "6e0b4b75-6bc0-452e-bb35-cdb9ac51a0ef",
   "metadata": {},
   "outputs": [],
   "source": [
    "# cross validate"
   ]
  },
  {
   "cell_type": "code",
   "execution_count": 39,
   "id": "5db1b264-19c0-4055-acd0-800f55ba142b",
   "metadata": {},
   "outputs": [
    {
     "data": {
      "text/plain": [
       "{'fit_time': array([0.02583098, 0.01780415, 0.02278733, 0.02234364, 0.01723981]),\n",
       " 'score_time': array([0.00645971, 0.00702357, 0.01196671, 0.00499964, 0.00504994]),\n",
       " 'test_accuracy': array([0.71 , 0.83 , 0.79 , 0.835, 0.805]),\n",
       " 'test_roc_auc': array([0.7095544 , 0.82873149, 0.79171669, 0.8369391 , 0.80820955])}"
      ]
     },
     "execution_count": 39,
     "metadata": {},
     "output_type": "execute_result"
    }
   ],
   "source": [
    "from sklearn.model_selection import cross_validate\n",
    "\n",
    "cross_validate(DecisionTreeClassifier(), X, y, cv = kf, scoring = [\"accuracy\",\"roc_auc\"])"
   ]
  },
  {
   "cell_type": "markdown",
   "id": "86ae5cfc-d0cf-4fa1-aba7-1558a81e7ac3",
   "metadata": {},
   "source": [
    "# Stratified K-Fold"
   ]
  },
  {
   "cell_type": "code",
   "execution_count": 48,
   "id": "c50ddca4-b54b-4893-a791-229e61a903ac",
   "metadata": {},
   "outputs": [],
   "source": [
    "# Generating synthetic dataset from make classification with class imbalance\n",
    "from sklearn.datasets import make_classification\n",
    "from sklearn.model_selection import train_test_split\n",
    "\n",
    "X, y = make_classification(n_features=10,\n",
    "                           n_samples=1000,\n",
    "                           n_informative=8,\n",
    "                           n_redundant=2,\n",
    "                           n_repeated=0,\n",
    "                           n_classes=2,\n",
    "                           weights = [0.9, 0.1],\n",
    "                           random_state=42\n",
    "                          )\n",
    "\n",
    "X_train, X_test, y_train, y_test = train_test_split(X, y, test_size=0.25, random_state=42)"
   ]
  },
  {
   "cell_type": "code",
   "execution_count": 50,
   "id": "35a8139e-3071-4b20-ab37-d3fdf552eb21",
   "metadata": {},
   "outputs": [
    {
     "data": {
      "text/plain": [
       "Counter({0: 897, 1: 103})"
      ]
     },
     "execution_count": 50,
     "metadata": {},
     "output_type": "execute_result"
    }
   ],
   "source": [
    "from collections import Counter\n",
    "\n",
    "Counter(y)"
   ]
  },
  {
   "cell_type": "code",
   "execution_count": 54,
   "id": "8a6cd3f9-a764-4df4-a445-47665b31a5f1",
   "metadata": {},
   "outputs": [],
   "source": [
    "from sklearn.model_selection import StratifiedKFold\n",
    "\n",
    "skf = StratifiedKFold(n_splits=5, shuffle=True, random_state=42)"
   ]
  },
  {
   "cell_type": "code",
   "execution_count": 56,
   "id": "97639e29-8672-4d9b-8f2c-390c887158de",
   "metadata": {},
   "outputs": [
    {
     "data": {
      "text/plain": [
       "0.9200000000000002"
      ]
     },
     "execution_count": 56,
     "metadata": {},
     "output_type": "execute_result"
    }
   ],
   "source": [
    "scores_rf = cross_val_score(RandomForestClassifier(n_estimators=45), X, y, cv=skf)\n",
    "np.average(scores_rf)"
   ]
  },
  {
   "cell_type": "code",
   "execution_count": null,
   "id": "6494a646-2751-4575-b9e5-eb4b3bf51c84",
   "metadata": {},
   "outputs": [],
   "source": []
  },
  {
   "cell_type": "code",
   "execution_count": null,
   "id": "df15effc-ab86-4d74-8d23-e6e42dfca364",
   "metadata": {},
   "outputs": [],
   "source": []
  },
  {
   "cell_type": "code",
   "execution_count": null,
   "id": "0f973036-27a8-402d-aec4-a890c57ca75e",
   "metadata": {},
   "outputs": [],
   "source": []
  }
 ],
 "metadata": {
  "kernelspec": {
   "display_name": "Python [conda env:base] *",
   "language": "python",
   "name": "conda-base-py"
  },
  "language_info": {
   "codemirror_mode": {
    "name": "ipython",
    "version": 3
   },
   "file_extension": ".py",
   "mimetype": "text/x-python",
   "name": "python",
   "nbconvert_exporter": "python",
   "pygments_lexer": "ipython3",
   "version": "3.12.7"
  }
 },
 "nbformat": 4,
 "nbformat_minor": 5
}
